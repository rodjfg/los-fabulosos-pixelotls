{
  "nbformat": 4,
  "nbformat_minor": 0,
  "metadata": {
    "colab": {
      "name": "Untitled1.ipynb",
      "provenance": [],
      "toc_visible": true,
      "authorship_tag": "ABX9TyP+ej1EoH66KR+U5HswKe2O",
      "include_colab_link": true
    },
    "kernelspec": {
      "name": "python3",
      "display_name": "Python 3"
    },
    "language_info": {
      "name": "python"
    }
  },
  "cells": [
    {
      "cell_type": "markdown",
      "metadata": {
        "id": "view-in-github",
        "colab_type": "text"
      },
      "source": [
        "<a href=\"https://colab.research.google.com/github/rodjfg/los-fabulosos-pixelotls/blob/master/select_by_outcome.ipynb\" target=\"_parent\"><img src=\"https://colab.research.google.com/assets/colab-badge.svg\" alt=\"Open In Colab\"/></a>"
      ]
    },
    {
      "cell_type": "code",
      "metadata": {
        "id": "h-NFEcn_05VH"
      },
      "source": [
        "def select_by_outcome(dat, feedback_type: str = 'correct'):\n",
        "    '''Find indices of trials with the specified outcome (correct, incorrect) in the dataset provided from a single experiment. \n",
        "       Correct = Rewarded, Incorrect = punished. Note that succesful no-go trials indices are also included.\n",
        "    Args:\n",
        "        dat (dict): data dictionary from a single experiment. For example dat = alldat[11] in the example notebook.\n",
        "        response_type (str): str specifying outcome. \"correct\", \"incorrect\"\n",
        "    Returns:\n",
        "        indices (1D array): array of indices from trials.'''\n",
        "\n",
        "    if response_type == 'correct':\n",
        "        indices = np.where(dat['feedback_type'] < 0)[0]\n",
        "    elif response_type == 'incorrect':\n",
        "        indices = np.where(dat['feedback_type'] > 0)[0]\n",
        "  \n",
        "    else:\n",
        "        raise Warning('wrong response_type input, choose: correct or incorrect')\n",
        "\n",
        "    return indices"
      ],
      "execution_count": null,
      "outputs": []
    },
    {
      "cell_type": "markdown",
      "metadata": {
        "id": "QzHcvB01AZbt"
      },
      "source": [
        "# New section"
      ]
    }
  ]
}