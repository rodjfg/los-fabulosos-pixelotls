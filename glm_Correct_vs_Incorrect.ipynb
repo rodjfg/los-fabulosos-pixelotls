{
  "nbformat": 4,
  "nbformat_minor": 0,
  "metadata": {
    "colab": {
      "name": "Untitled1.ipynb",
      "provenance": [],
      "include_colab_link": true
    },
    "kernelspec": {
      "name": "python3",
      "display_name": "Python 3"
    },
    "language_info": {
      "name": "python"
    }
  },
  "cells": [
    {
      "cell_type": "markdown",
      "metadata": {
        "id": "view-in-github",
        "colab_type": "text"
      },
      "source": [
        "<a href=\"https://colab.research.google.com/github/rodjfg/los-fabulosos-pixelotls/blob/master/glm_Correct_vs_Incorrect.ipynb\" target=\"_parent\"><img src=\"https://colab.research.google.com/assets/colab-badge.svg\" alt=\"Open In Colab\"/></a>"
      ]
    },
    {
      "cell_type": "markdown",
      "metadata": {
        "id": "a-k7USwKtCl2"
      },
      "source": [
        "Correct vs Incorrect"
      ]
    },
    {
      "cell_type": "code",
      "metadata": {
        "id": "scyjAl_8wID1",
        "outputId": "d0e62696-12c5-4688-b9c6-d3f9d1369cbf",
        "colab": {
          "base_uri": "https://localhost:8080/"
        }
      },
      "source": [
        "!pip install --quiet git+https://github.com/rodjfg/los-fabulosos-pixelotls"
      ],
      "execution_count": 6,
      "outputs": [
        {
          "output_type": "stream",
          "text": [
            "  Building wheel for los-fabulosos-pixelotls (setup.py) ... \u001b[?25l\u001b[?25hdone\n"
          ],
          "name": "stdout"
        }
      ]
    },
    {
      "cell_type": "code",
      "metadata": {
        "id": "FI5H955xsFHl"
      },
      "source": [
        "from los_fabulosos_pixelotls.tools import load_raw_data, select_by_areas, select_by_contrast, select_trials, calculate_mean_firing_rate, select_by_response\n",
        "import numpy as np\n",
        "from matplotlib import rcParams \n",
        "from matplotlib import pyplot as plt\n",
        "from sklearn.model_selection import train_test_split\n",
        "from sklearn.linear_model import LogisticRegressionCV\n",
        "from sklearn.linear_model import LogisticRegressionCV, LogisticRegression\n",
        "\n",
        "rcParams['font.size'] =15\n",
        "rcParams['axes.spines.top'] = False\n",
        "rcParams['axes.spines.right'] = False\n",
        "rcParams['figure.autolayout'] = True"
      ],
      "execution_count": 7,
      "outputs": []
    },
    {
      "cell_type": "code",
      "metadata": {
        "id": "O8KK-j7_svEW"
      },
      "source": [
        "# get data\n",
        "alldat = load_raw_data()"
      ],
      "execution_count": 8,
      "outputs": []
    },
    {
      "cell_type": "code",
      "metadata": {
        "id": "IF9eCi3rie79"
      },
      "source": [
        "def select_by_outcome(dat, feedback_type: str = 'correct'):\n",
        "    '''Find indices of trials with the specified outcome (correct, incorrect) in the dataset provided from a single experiment. \n",
        "       Correct = Rewarded, Incorrect = punished. Note that succesful no-go trials indices are also included.\n",
        "    Args:\n",
        "        dat (dict): data dictionary from a single experiment. For example dat = alldat[11] in the example notebook.\n",
        "        feedback_type (str): str specifying outcome. \"correct\", \"incorrect\"\n",
        "    Returns:\n",
        "        indices (1D array): array of indices from trials.'''\n",
        "\n",
        "    if feedback_type == 'correct':\n",
        "        indices = np.where(dat['feedback_type'] > 0)[0]\n",
        "    elif feedback_type == 'incorrect':\n",
        "        indices = np.where(dat['feedback_type'] < 0)[0]\n",
        "  \n",
        "    else:\n",
        "        raise Warning('wrong response_type input, choose: correct or incorrect')\n",
        "\n",
        "    return indices"
      ],
      "execution_count": 9,
      "outputs": []
    },
    {
      "cell_type": "code",
      "metadata": {
        "id": "y3WrRUeasz1g"
      },
      "source": [
        "selected_regions = [\"VISp\"]\n",
        "gaussfilter = True\n",
        "gauss_sigma = 1\n",
        "\n",
        "samples = np.empty((0,250))\n",
        "y = np.empty((0,))\n",
        "\n",
        "for dat in alldat:\n",
        "  dt = dat['bin_size']\n",
        "\n",
        "  neurons_indices_in_area = select_by_areas(dat, selected_regions = selected_regions)\n",
        "\n",
        "  if len(neurons_indices_in_area) > 0:\n",
        "\n",
        "    correct_trials   = select_by_outcome(dat, feedback_type = 'correct')   # trials in which mouse was correct   (trials in which the animals was reinforced, water reward)\n",
        "    incorrect_trials = select_by_outcome(dat, feedback_type = 'incorrect') # trials in which mouse was incorrect (trials in which the animals was punished, whit noise burst)\n",
        "    no_go_trials     = select_by_contrast(dat, contrast_pair = (0, 0))     # no-go trials indices\n",
        "\n",
        "    correct_trials   = [x for x in correct_trials if x not in no_go_trials]   # we exclude no go trials\n",
        "    incorrect_trials = [x for x in incorrect_trials if x not in no_go_trials] # we exclude no go trials\n",
        "\n",
        "    # average firing rate across neuron population (e.g. VISp) for each trial in which mouse moved to the left\n",
        "    correct_firing_rates = calculate_mean_firing_rate(dat['spks'][neurons_indices_in_area][:,correct_trials], dt, ['population'], gaussfilter = gaussfilter, gauss_sigma = gauss_sigma)\n",
        "\n",
        "    # average firing rate across neuron population (e.g. VISp) for each trial in which mouse moved to the right\n",
        "    incorrect_firing_rates = calculate_mean_firing_rate(dat['spks'][neurons_indices_in_area][:,incorrect_trials], dt, ['population'], gaussfilter = gaussfilter, gauss_sigma = gauss_sigma)\n",
        "\n",
        "    # Find minimum number of samples that can be extracted from both conditions:\n",
        "    \n",
        "    # ALternative 1, we feed the model with equal number of positive and negative trials  # Thus, we find which\n",
        "    # one is the limitting condition and select only as many trials from the non-limiting condition. (this reduces our dataset substantially) \n",
        "   \n",
        "    # n_min   = min(correct_firing_rates.shape[0],incorrect_firing_rates.shape[0])\n",
        "    # samples = np.concatenate((samples,correct_firing_rates[:n_min,...]),axis=0)  \n",
        "    # samples = np.concatenate((samples,incorrect_firing_rates[:n_min,...]),axis=0)\n",
        "    \n",
        "    # Alternative 2, we feed the model with all the trials. This teaches better the model to recognise correct than incorrect trials.\n",
        "    samples = np.concatenate((samples,correct_firing_rates),axis=0)\n",
        "    samples = np.concatenate((samples,incorrect_firing_rates),axis=0)\n",
        "    \n",
        "    # Create output variable to train the GLM. 1: when mouse was correct, 0: when mouse was incorrect\n",
        "    y = np.concatenate( (y, np.ones(correct_firing_rates.shape[0])) )\n",
        "    y = np.concatenate( (y, np.zeros(incorrect_firing_rates.shape[0])) )"
      ],
      "execution_count": 28,
      "outputs": []
    },
    {
      "cell_type": "code",
      "metadata": {
        "id": "ZlOt418MwDMz",
        "colab": {
          "base_uri": "https://localhost:8080/"
        },
        "outputId": "c088111a-a236-464b-dc95-d4047983b23f"
      },
      "source": [
        "y.shape, samples.shape"
      ],
      "execution_count": 29,
      "outputs": [
        {
          "output_type": "execute_result",
          "data": {
            "text/plain": [
              "((2455,), (2455, 250))"
            ]
          },
          "metadata": {
            "tags": []
          },
          "execution_count": 29
        }
      ]
    },
    {
      "cell_type": "markdown",
      "metadata": {
        "id": "u-xzQwloyjIh"
      },
      "source": [
        "TRAIN AND TEST SPLIT"
      ]
    },
    {
      "cell_type": "code",
      "metadata": {
        "id": "z0BthXl-wLYi"
      },
      "source": [
        "samples_train, samples_test, y_train, y_test = train_test_split(samples, y, test_size=0.23, random_state=42)"
      ],
      "execution_count": 30,
      "outputs": []
    },
    {
      "cell_type": "code",
      "metadata": {
        "id": "z6eaNM1UytH3"
      },
      "source": [
        "# C: float, default=1.0, Inverse of regularization strength; must be a positive float. Like in support vector machines, smaller values specify stronger regularization.\n",
        "clf = LogisticRegressionCV(Cs=5, cv=4, penalty='l1', solver='saga', tol=0.0001, max_iter=5000, random_state=42).fit(samples_train, y_train) # crossvalidation\n",
        "# clf = LogisticRegression(penalty='l1', C =1.0, solver='saga', tol=0.0001, max_iter=50000, random_state=42).fit(samples_train, y_train)"
      ],
      "execution_count": 37,
      "outputs": []
    },
    {
      "cell_type": "code",
      "metadata": {
        "id": "XS-OfzuGzdfo",
        "colab": {
          "base_uri": "https://localhost:8080/"
        },
        "outputId": "98d2ef38-df5b-4ae5-abf3-c667be4a69a9"
      },
      "source": [
        "clf.score(samples_test,y_test)"
      ],
      "execution_count": 38,
      "outputs": [
        {
          "output_type": "execute_result",
          "data": {
            "text/plain": [
              "0.6938053097345133"
            ]
          },
          "metadata": {
            "tags": []
          },
          "execution_count": 38
        }
      ]
    },
    {
      "cell_type": "code",
      "metadata": {
        "id": "AuQzs1ir1et6",
        "colab": {
          "base_uri": "https://localhost:8080/"
        },
        "outputId": "83e39de2-55f3-4ec3-f534-b78e601c4cd4"
      },
      "source": [
        "clf.score(samples_train,y_train)"
      ],
      "execution_count": 39,
      "outputs": [
        {
          "output_type": "execute_result",
          "data": {
            "text/plain": [
              "0.7111111111111111"
            ]
          },
          "metadata": {
            "tags": []
          },
          "execution_count": 39
        }
      ]
    },
    {
      "cell_type": "code",
      "metadata": {
        "id": "Vf45cDb0xpCB",
        "outputId": "c654bd32-5054-4ae0-a80c-df9129422f70",
        "colab": {
          "base_uri": "https://localhost:8080/"
        }
      },
      "source": [
        "print(clf.C_) # OPtimal C value as specified with Crossvalidation"
      ],
      "execution_count": 41,
      "outputs": [
        {
          "output_type": "stream",
          "text": [
            "[0.01]\n"
          ],
          "name": "stdout"
        }
      ]
    },
    {
      "cell_type": "code",
      "metadata": {
        "id": "Zst-UNAO24Ud",
        "colab": {
          "base_uri": "https://localhost:8080/",
          "height": 287
        },
        "outputId": "d1372ea2-9523-49b7-92c8-1b68a65665ce"
      },
      "source": [
        "plt.subplot(211)\n",
        "plt.plot(clf.coef_[0,:])\n",
        "plt.subplot(212)\n",
        "plt.plot(np.abs(clf.coef_[0,:]))\n",
        "plt.show()"
      ],
      "execution_count": 42,
      "outputs": [
        {
          "output_type": "display_data",
          "data": {
            "image/png": "[encoded data removed]",
            "text/plain": [
              "<Figure size 432x288 with 2 Axes>"
            ]
          },
          "metadata": {
            "tags": [],
            "needs_background": "light"
          }
        }
      ]
    },
    {
      "cell_type": "code",
      "metadata": {
        "id": "Xc1juauU3eIO"
      },
      "source": [
        ""
      ],
      "execution_count": null,
      "outputs": []
    }
  ]
}