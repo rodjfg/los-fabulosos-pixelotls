{
  "nbformat": 4,
  "nbformat_minor": 0,
  "metadata": {
    "colab": {
      "name": "Untitled1.ipynb",
      "provenance": [],
      "include_colab_link": true
    },
    "kernelspec": {
      "name": "python3",
      "display_name": "Python 3"
    },
    "language_info": {
      "name": "python"
    }
  },
  "cells": [
    {
      "cell_type": "markdown",
      "metadata": {
        "id": "view-in-github",
        "colab_type": "text"
      },
      "source": [
        "<a href=\"https://colab.research.google.com/github/rodjfg/los-fabulosos-pixelotls/blob/master/glm_Correct_vs_Incorrect_2.ipynb\" target=\"_parent\"><img src=\"https://colab.research.google.com/assets/colab-badge.svg\" alt=\"Open In Colab\"/></a>"
      ]
    },
    {
      "cell_type": "markdown",
      "metadata": {
        "id": "a-k7USwKtCl2"
      },
      "source": [
        "Correct vs Incorrect"
      ]
    },
    {
      "cell_type": "code",
      "metadata": {
        "id": "scyjAl_8wID1",
        "colab": {
          "base_uri": "https://localhost:8080/"
        },
        "outputId": "0a15f0e5-fe86-4bd5-a474-22099aa3a4e6"
      },
      "source": [
        "!pip install --quiet git+https://github.com/rodjfg/los-fabulosos-pixelotls"
      ],
      "execution_count": 7,
      "outputs": [
        {
          "output_type": "stream",
          "text": [
            "  Building wheel for los-fabulosos-pixelotls (setup.py) ... \u001b[?25l\u001b[?25hdone\n"
          ],
          "name": "stdout"
        }
      ]
    },
    {
      "cell_type": "code",
      "metadata": {
        "id": "FI5H955xsFHl"
      },
      "source": [
        "from los_fabulosos_pixelotls.tools import load_raw_data, select_by_areas, select_by_contrast, select_trials, calculate_mean_firing_rate, select_by_response\n",
        "import numpy as np\n",
        "import math\n",
        "from matplotlib import rcParams \n",
        "from matplotlib import pyplot as plt\n",
        "from sklearn.model_selection import train_test_split\n",
        "from sklearn.linear_model import LogisticRegressionCV\n",
        "from sklearn.linear_model import LogisticRegressionCV, LogisticRegression\n",
        "\n",
        "rcParams['font.size'] =15\n",
        "rcParams['axes.spines.top'] = False\n",
        "rcParams['axes.spines.right'] = False\n",
        "rcParams['figure.autolayout'] = True"
      ],
      "execution_count": 10,
      "outputs": []
    },
    {
      "cell_type": "code",
      "metadata": {
        "id": "O8KK-j7_svEW"
      },
      "source": [
        "# get data\n",
        "alldat = load_raw_data()"
      ],
      "execution_count": 12,
      "outputs": []
    },
    {
      "cell_type": "code",
      "metadata": {
        "id": "rIOo0zyfggIZ"
      },
      "source": [
        ""
      ],
      "execution_count": 4,
      "outputs": []
    },
    {
      "cell_type": "code",
      "metadata": {
        "id": "IF9eCi3rie79"
      },
      "source": [
        "def select_by_outcome(dat, feedback_type: str = 'correct'):\n",
        "    '''Find indices of trials with the specified outcome (correct, incorrect) in the dataset provided from a single experiment. \n",
        "       Correct = Rewarded, Incorrect = punished. Note that succesful no-go trials indices are also included.\n",
        "    Args:\n",
        "        dat (dict): data dictionary from a single experiment. For example dat = alldat[11] in the example notebook.\n",
        "        feedback_type (str): str specifying outcome. \"correct\", \"incorrect\"\n",
        "    Returns:\n",
        "        indices (1D array): array of indices from trials.'''\n",
        "\n",
        "    if feedback_type == 'correct':\n",
        "        indices = np.where(dat['feedback_type'] > 0)[0]\n",
        "    elif feedback_type == 'incorrect':\n",
        "        indices = np.where(dat['feedback_type'] < 0)[0]\n",
        "  \n",
        "    else:\n",
        "        raise Warning('wrong response_type input, choose: correct or incorrect')\n",
        "\n",
        "    return indices"
      ],
      "execution_count": 13,
      "outputs": []
    },
    {
      "cell_type": "code",
      "metadata": {
        "id": "y3WrRUeasz1g"
      },
      "source": [
        "selected_regions = [\"VISp\"]\n",
        "#selected_regions = [\"VISa\", \"VISam\", \"VISl\", \"VISp\", \"VISpm\", \"VISrl\"]\n",
        "\n",
        "gaussfilter = True\n",
        "gauss_sigma = 1\n",
        "\n",
        "  #zscore the neuron responses\n",
        "\n",
        "def zscore(data_to_normalize, window= [0,250]):\n",
        "\n",
        "   \"\"\"\n",
        "   For each time bin of a given neuron spike train (data_to_normalize), substract\n",
        "   the mean over a given window (by default set to the whole trial \n",
        "   duration) and divide it over the STD. \n",
        "   \n",
        "   A z-score can then essentially show what multiple of standard deviation a\n",
        "   firing rate is above the mean.\n",
        "   \"\"\"\n",
        "   ZscoredData     = np.zeros((len(data_to_normalize),len(data_to_normalize.T)))\n",
        "   AllMean         = np.zeros(len(data_to_normalize))\n",
        "   AllSTD          = np.zeros(len(data_to_normalize))\n",
        "\n",
        "   \n",
        "   for neur in range(len(data_to_normalize)):\n",
        "\n",
        "     mean_window = np.mean(data_to_normalize[neur,:window[-1]+1])\n",
        "     std_window  = np.std(data_to_normalize[neur,:window[-1]+1]) + np.finfo(float).eps\n",
        "\n",
        "\n",
        "     ZscoredData[neur]  = ((data_to_normalize[neur] - mean_window) / std_window)\n",
        "     AllSTD[neur] = std_window\n",
        "     AllMean[neur] = mean_window\n",
        "\n",
        "   return ZscoredData, AllMean, AllSTD\n",
        "\n",
        "samples = np.empty((0,250))\n",
        "y = np.empty((0,))\n",
        "\n",
        "for dat in alldat:\n",
        "  dt = dat['bin_size']\n",
        "\n",
        "  neurons_indices_in_area = select_by_areas(dat, selected_regions = selected_regions)\n",
        "\n",
        "\n",
        "\n",
        "  if len(neurons_indices_in_area) > 0:\n",
        "\n",
        "    correct_trials   = select_by_outcome(dat, feedback_type = 'correct')   # trials in which mouse was correct   (trials in which the animals was reinforced, water reward)\n",
        "    incorrect_trials = select_by_outcome(dat, feedback_type = 'incorrect') # trials in which mouse was incorrect (trials in which the animals was punished, whit noise burst)\n",
        "    no_go_trials     = select_by_contrast(dat, contrast_pair = (0, 0))     # no-go trials indices\n",
        "\n",
        "    correct_trials   = [x for x in correct_trials if x not in no_go_trials]   # we exclude no go trials\n",
        "    incorrect_trials = [x for x in incorrect_trials if x not in no_go_trials] # we exclude no go trials\n",
        "\n",
        "    # average firing rate across neuron population (e.g. VISp) for each trial in which mouse moved to the left\n",
        "    correct_firing_rates = calculate_mean_firing_rate(dat['spks'][neurons_indices_in_area][:,correct_trials], dt, ['population'], gaussfilter = gaussfilter, gauss_sigma = gauss_sigma)\n",
        "\n",
        "    # average firing rate across neuron population (e.g. VISp) for each trial in which mouse moved to the right\n",
        "    incorrect_firing_rates = calculate_mean_firing_rate(dat['spks'][neurons_indices_in_area][:,incorrect_trials], dt, ['population'], gaussfilter = gaussfilter, gauss_sigma = gauss_sigma)\n",
        "\n",
        "    # Find minimum number of samples that can be extracted from both conditions:\n",
        "    \n",
        "    # ALternative 1, we feed the model with equal number of positive and negative trials  # Thus, we find which\n",
        "    #one is the limitting condition and select only as many trials from the non-limiting condition. (this reduces our dataset substantially) \n",
        "   \n",
        "    n_min   = min(correct_firing_rates.shape[0],incorrect_firing_rates.shape[0])\n",
        "    samples = np.concatenate((samples,correct_firing_rates[:n_min,...]),axis=0)  \n",
        "    samples = np.concatenate((samples,incorrect_firing_rates[:n_min,...]),axis=0)\n",
        "\n",
        "    y = np.concatenate( (y, np.ones(n_min)) )\n",
        "    y = np.concatenate( (y, np.zeros(n_min)) )\n",
        "\n",
        "    #print(math.floor(dat['gocue']*10))\n",
        "    \n",
        "    # Alternative 2, we feed the model with all the trials. This teaches better the model to recognise correct than incorrect trials.\n",
        "    # samples = np.concatenate((samples,correct_firing_rates),axis=0)\n",
        "    # samples = np.concatenate((samples,incorrect_firing_rates),axis=0)\n",
        "    \n",
        "    # # Create output variable to train the GLM. 1: when mouse was correct, 0: when mouse was incorrect\n",
        "    # y = np.concatenate( (y, np.ones(correct_firing_rates.shape[0])) )\n",
        "    # y = np.concatenate( (y, np.zeros(incorrect_firing_rates.shape[0])) )\n",
        "    # # Create output variable to train the GLM. 1: when mouse was correct, 0: when mouse was incorrect\n",
        "    #print(len(no_go_trials),len(correct_trials),len(incorrect_trials))\n",
        "    #print(y.shape)\n",
        "# print(AllMeanSTD[:])"
      ],
      "execution_count": 26,
      "outputs": []
    },
    {
      "cell_type": "code",
      "metadata": {
        "id": "RQaDD3U2FpTJ",
        "outputId": "dd08830c-b1ab-4050-f978-ef74a8957565",
        "colab": {
          "base_uri": "https://localhost:8080/",
          "height": 305
        }
      },
      "source": [
        "  counts, bins = np.histogram(dat['gocue'])\n",
        "plt.hist(bins[:-1], bins, weights=counts)\n",
        "print(correct_firing_rates.shape)"
      ],
      "execution_count": 15,
      "outputs": [
        {
          "output_type": "stream",
          "text": [
            "(160, 250)\n"
          ],
          "name": "stdout"
        },
        {
          "output_type": "display_data",
          "data": {
            "image/png": "[encoded data removed]",
            "text/plain": [
              "<Figure size 432x288 with 1 Axes>"
            ]
          },
          "metadata": {
            "tags": [],
            "needs_background": "light"
          }
        }
      ]
    },
    {
      "cell_type": "code",
      "metadata": {
        "id": "TA_5EUAhhBPY",
        "outputId": "73189512-aa9c-476b-f9bb-d6067234f9d6",
        "colab": {
          "base_uri": "https://localhost:8080/"
        }
      },
      "source": [
        "print(neurons_indices_in_area[1].shape)\n",
        "print(dat['spks'].shape)\n"
      ],
      "execution_count": 16,
      "outputs": [
        {
          "output_type": "stream",
          "text": [
            "()\n",
            "(1348, 343, 250)\n"
          ],
          "name": "stdout"
        }
      ]
    },
    {
      "cell_type": "code",
      "metadata": {
        "id": "ZlOt418MwDMz",
        "colab": {
          "base_uri": "https://localhost:8080/"
        },
        "outputId": "91519649-0cc0-4020-b573-117d4aee5c4f"
      },
      "source": [
        "y.shape, samples.shape"
      ],
      "execution_count": 150,
      "outputs": [
        {
          "output_type": "execute_result",
          "data": {
            "text/plain": [
              "((1450,), (1450, 250))"
            ]
          },
          "metadata": {
            "tags": []
          },
          "execution_count": 150
        }
      ]
    },
    {
      "cell_type": "markdown",
      "metadata": {
        "id": "u-xzQwloyjIh"
      },
      "source": [
        "TRAIN AND TEST SPLIT"
      ]
    },
    {
      "cell_type": "code",
      "metadata": {
        "id": "z0BthXl-wLYi"
      },
      "source": [
        "samples_train, samples_test, y_train, y_test = train_test_split(samples, y, test_size=0.23, random_state=42)\n",
        "\n",
        "\n",
        "\n",
        "\n",
        "#samples_train, AllMean, AllSTD = zscore(samples_train, window = [0,250] )\n",
        "\n",
        "#print(AllMean[2:5],AllSTD[2:5],samples_train[3:6])\n",
        "\n",
        "#samples_test, AllMeanBaseline, AllMeanSTD = zscore(samples_test, window = [0,250] )\n",
        "\n"
      ],
      "execution_count": 27,
      "outputs": []
    },
    {
      "cell_type": "code",
      "metadata": {
        "id": "z6eaNM1UytH3",
        "outputId": "50d63b21-ef35-4753-dfa3-849ad24afa46",
        "colab": {
          "base_uri": "https://localhost:8080/"
        }
      },
      "source": [
        "# C: float, default=1.0, Inverse of regularization strength; must be a positive float. Like in support vector machines, smaller values specify stronger regularization.\n",
        "clf = LogisticRegressionCV(Cs=5, cv=4, penalty='l1', solver='saga', tol=0.0001, max_iter=5000, random_state=42).fit(samples_train, y_train) # crossvalidation\n",
        "#clf = LogisticRegressionCV(Cs=5, cv=4, penalty='l1', solver='saga', tol=0.0001, max_iter=5000, random_state=42).fit(samples_train, y_train) # crossvalidation\n"
      ],
      "execution_count": 28,
      "outputs": [
        {
          "output_type": "stream",
          "text": [
            "/usr/local/lib/python3.7/dist-packages/sklearn/linear_model/_sag.py:330: ConvergenceWarning: The max_iter was reached which means the coef_ did not converge\n",
            "  \"the coef_ did not converge\", ConvergenceWarning)\n"
          ],
          "name": "stderr"
        }
      ]
    },
    {
      "cell_type": "code",
      "metadata": {
        "id": "XS-OfzuGzdfo",
        "colab": {
          "base_uri": "https://localhost:8080/"
        },
        "outputId": "b96cdcc3-b3a0-4391-e8a3-95fc60c92fa7"
      },
      "source": [
        "clf.score(samples_test,y_test)"
      ],
      "execution_count": 29,
      "outputs": [
        {
          "output_type": "execute_result",
          "data": {
            "text/plain": [
              "0.6137724550898204"
            ]
          },
          "metadata": {
            "tags": []
          },
          "execution_count": 29
        }
      ]
    },
    {
      "cell_type": "code",
      "metadata": {
        "id": "AuQzs1ir1et6",
        "colab": {
          "base_uri": "https://localhost:8080/"
        },
        "outputId": "d36b8625-a160-4bf1-d9ad-4a041e1755ae"
      },
      "source": [
        "clf.score(samples_train,y_train)"
      ],
      "execution_count": 30,
      "outputs": [
        {
          "output_type": "execute_result",
          "data": {
            "text/plain": [
              "0.6406810035842294"
            ]
          },
          "metadata": {
            "tags": []
          },
          "execution_count": 30
        }
      ]
    },
    {
      "cell_type": "code",
      "metadata": {
        "id": "Vf45cDb0xpCB",
        "colab": {
          "base_uri": "https://localhost:8080/"
        },
        "outputId": "aacc2ee9-95f5-4ade-e064-cad80bec7ab9"
      },
      "source": [
        "print(clf.C_) # OPtimal C value as specified with Crossvalidation"
      ],
      "execution_count": 31,
      "outputs": [
        {
          "output_type": "stream",
          "text": [
            "[0.01]\n"
          ],
          "name": "stdout"
        }
      ]
    },
    {
      "cell_type": "code",
      "metadata": {
        "id": "Zst-UNAO24Ud",
        "colab": {
          "base_uri": "https://localhost:8080/",
          "height": 287
        },
        "outputId": "638eb893-6bce-4737-f197-dccd3d95f2b1"
      },
      "source": [
        "plt.subplot(211)\n",
        "plt.plot(clf.coef_[0,:])\n",
        "plt.subplot(212)\n",
        "plt.plot(np.abs(clf.coef_[0,:]))\n",
        "plt.show()"
      ],
      "execution_count": 32,
      "outputs": [
        {
          "output_type": "display_data",
          "data": {
            "image/png": "[encoded data removed]",
            "text/plain": [
              "<Figure size 432x288 with 2 Axes>"
            ]
          },
          "metadata": {
            "tags": [],
            "needs_background": "light"
          }
        }
      ]
    },
    {
      "cell_type": "code",
      "metadata": {
        "id": "Xc1juauU3eIO"
      },
      "source": [
        "def clasificator_analisis(model, X, y):\n",
        "  '''Compute accuracy with CV, confusion matrix, precision-recall scores and plot ROC and precision-recall curves.\n",
        "   Args: \n",
        "     model = model object trained from sklearn\n",
        "         X = input features in train or test\n",
        "         y = target in train or test\n",
        "   Return:\n",
        "    Print of all the scores computed and save accuracy, cm, precision, recall\n",
        "'''\n",
        "  \n",
        "  from sklearn.model_selection import cross_val_predict, cross_val_score\n",
        "  from sklearn.metrics import confusion_matrix, precision_score, recall_score, plot_precision_recall_curve, plot_roc_curve\n",
        "\n",
        "  #accu = cross_val_score(model, X, y, cv=5, scoring=\"accuracy\").mean()\n",
        "  #print(f'{model} \\nAccuracy:{accu}\\n')\n",
        "  pred = model.predict(X)\n",
        "  cm = confusion_matrix(y,pred)\n",
        "  print(f'Confusion Matrix: \\n {cm}\\n')\n",
        "  precision = precision_score(y,pred)\n",
        "  print('Precision:',precision)\n",
        "  recall = recall_score(y, pred)\n",
        "  print('Recall:', recall)\n",
        "  plot_precision_recall_curve(model, X, y)\n",
        "  plt.show()\n",
        "\n",
        "  plot_roc_curve(model, X, y)\n",
        "  plt.plot([0, 1], [0, 1], color='0.5', ls=':')\n",
        "  plt.show()\n"
      ],
      "execution_count": 33,
      "outputs": []
    },
    {
      "cell_type": "code",
      "metadata": {
        "id": "9TJ3UKLciKXV",
        "outputId": "81944730-aec1-4662-8a14-0a31566f088d",
        "colab": {
          "base_uri": "https://localhost:8080/",
          "height": 666
        }
      },
      "source": [
        "clasificator_analisis(clf, samples_test, y_test)"
      ],
      "execution_count": 34,
      "outputs": [
        {
          "output_type": "stream",
          "text": [
            "Confusion Matrix: \n",
            " [[118  36]\n",
            " [ 93  87]]\n",
            "\n",
            "Precision: 0.7073170731707317\n",
            "Recall: 0.48333333333333334\n"
          ],
          "name": "stdout"
        },
        {
          "output_type": "display_data",
          "data": {
            "image/png": "[encoded data removed]",
            "text/plain": [
              "<Figure size 432x288 with 1 Axes>"
            ]
          },
          "metadata": {
            "tags": [],
            "needs_background": "light"
          }
        },
        {
          "output_type": "display_data",
          "data": {
            "image/png": "[encoded data removed]",
            "text/plain": [
              "<Figure size 432x288 with 1 Axes>"
            ]
          },
          "metadata": {
            "tags": [],
            "needs_background": "light"
          }
        }
      ]
    },
    {
      "cell_type": "code",
      "metadata": {
        "id": "w0TXF_AWg4lS",
        "outputId": "6e32d80f-8ddc-4f7e-a1aa-b7ec6107e0c0",
        "colab": {
          "base_uri": "https://localhost:8080/",
          "height": 305
        }
      },
      "source": [
        "from sklearn.metrics import plot_confusion_matrix\n",
        "plot_confusion_matrix(clf, samples_test, y_test)\n"
      ],
      "execution_count": 158,
      "outputs": [
        {
          "output_type": "execute_result",
          "data": {
            "text/plain": [
              "<sklearn.metrics._plot.confusion_matrix.ConfusionMatrixDisplay at 0x7fe445a62d10>"
            ]
          },
          "metadata": {
            "tags": []
          },
          "execution_count": 158
        },
        {
          "output_type": "display_data",
          "data": {
            "image/png": "[encoded data removed]",
            "text/plain": [
              "<Figure size 432x288 with 2 Axes>"
            ]
          },
          "metadata": {
            "tags": [],
            "needs_background": "light"
          }
        }
      ]
    },
    {
      "cell_type": "code",
      "metadata": {
        "id": "RFe-8ND0g48L"
      },
      "source": [
        ""
      ],
      "execution_count": null,
      "outputs": []
    }
  ]
}