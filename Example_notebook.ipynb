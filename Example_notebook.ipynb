{
  "nbformat": 4,
  "nbformat_minor": 0,
  "metadata": {
    "colab": {
      "name": "Example_notebook.ipynb",
      "provenance": [],
      "include_colab_link": true
    },
    "kernelspec": {
      "name": "python3",
      "display_name": "Python 3"
    },
    "language_info": {
      "name": "python"
    }
  },
  "cells": [
    {
      "cell_type": "markdown",
      "metadata": {
        "id": "view-in-github",
        "colab_type": "text"
      },
      "source": [
        "<a href=\"https://colab.research.google.com/github/rodjfg/los-fabulosos-pixelotls/blob/master/Example_notebook.ipynb\" target=\"_parent\"><img src=\"https://colab.research.google.com/assets/colab-badge.svg\" alt=\"Open In Colab\"/></a>"
      ]
    },
    {
      "cell_type": "code",
      "metadata": {
        "id": "0xfiBPt7Q2Kr",
        "colab": {
          "base_uri": "https://localhost:8080/"
        },
        "outputId": "1a5fe63d-7cc9-41f1-a4a0-bef76b58264b"
      },
      "source": [
        "!pip install --quiet git+https://github.com/rodjfg/los-fabulosos-pixelotls"
      ],
      "execution_count": 8,
      "outputs": [
        {
          "output_type": "stream",
          "text": [
            "  Building wheel for los-fabulosos-pixelotls (setup.py) ... \u001b[?25l\u001b[?25hdone\n"
          ],
          "name": "stdout"
        }
      ]
    },
    {
      "cell_type": "code",
      "metadata": {
        "id": "fq8hzTRrSg3q"
      },
      "source": [
        "from los_fabulosos_pixelotls.tools import load_raw_data, select_by_areas, select_by_contrast, select_trials, calculate_mean_firing_rate\n",
        "import numpy as np\n",
        "from matplotlib import rcParams \n",
        "from matplotlib import pyplot as plt\n",
        "\n",
        "rcParams['font.size'] =15\n",
        "rcParams['axes.spines.top'] = False\n",
        "rcParams['axes.spines.right'] = False\n",
        "rcParams['figure.autolayout'] = True\n",
        "\n"
      ],
      "execution_count": 11,
      "outputs": []
    },
    {
      "cell_type": "code",
      "metadata": {
        "id": "njcd42x2TP2D"
      },
      "source": [
        "# get data\n",
        "alldat = load_raw_data()\n",
        "\n",
        "# name conventions\n",
        "regions = [\"vis ctx\", \"thal\", \"hipp\", \"other ctx\", \"midbrain\", \"basal ganglia\", \"cortical subplate\", \"other\"]\n",
        "region_colors = ['blue', 'red', 'green', 'darkblue', 'violet', 'lightblue', 'orange', 'gray']\n",
        "brain_groups = [\n",
        "    [\"VISa\", \"VISam\", \"VISl\", \"VISp\", \"VISpm\", \"VISrl\"], # visual cortex\n",
        "    [\"CL\", \"LD\", \"LGd\", \"LH\", \"LP\", \"MD\", \"MG\", \"PO\", \"POL\", \"PT\", \"RT\", \"SPF\", \"TH\", \"VAL\", \"VPL\", \"VPM\"], # thalamus\n",
        "    [\"CA\", \"CA1\", \"CA2\", \"CA3\", \"DG\", \"SUB\", \"POST\"], # hippocampal\n",
        "    [\"ACA\", \"AUD\", \"COA\", \"DP\", \"ILA\", \"MOp\", \"MOs\", \"OLF\", \"ORB\", \"ORBm\", \"PIR\", \"PL\", \"SSp\", \"SSs\", \"RSP\",\"TT\"], # non-visual cortex\n",
        "    [\"APN\", \"IC\", \"MB\", \"MRN\", \"NB\", \"PAG\", \"RN\", \"SCs\", \"SCm\", \"SCig\", \"SCsg\", \"ZI\"], # midbrain\n",
        "    [\"ACB\", \"CP\", \"GPe\", \"LS\", \"LSc\", \"LSr\", \"MS\", \"OT\", \"SNr\", \"SI\"], # basal ganglia \n",
        "    [\"BLA\", \"BMA\", \"EP\", \"EPd\", \"MEA\"] # cortical subplate\n",
        "    ]\n",
        "\n"
      ],
      "execution_count": 12,
      "outputs": []
    },
    {
      "cell_type": "code",
      "metadata": {
        "id": "M7MBw-RLWk17"
      },
      "source": [
        "gaussfilter = True\n",
        "gauss_sigma = 1\n",
        "selected_regions = [\"VISp\"]\n",
        "\n",
        "all_d_right = []\n",
        "all_d_left = [] \n",
        "all_preference_rates = [] # mean response to right stim - mean response to left stim\n",
        "all_preference_components_rates = [] # mean response to right stim, mean response to left stim\n",
        "Correct_examples = [] # Append corresponding results from different conditions to this list\n",
        "Incorrect_examples = [] # Append corresponding results from different conditions to this list\n",
        "\n",
        "for dat in alldat:\n",
        "    # get important variables from specific experiment\n",
        "    dt = dat['bin_size']\n",
        "    response = dat['response'] # correct responses to right stim, nogo, left stim: -1, 0, 1\n",
        "    vis_right = dat['contrast_right']\n",
        "    vis_left = dat['contrast_left']\n",
        "    N_neurons, N_trials, N_timebins  = dat['spks'].shape\n",
        "\n",
        "    # find neurons indices from selected area\n",
        "    neurons_indices_in_area = select_by_areas(dat, selected_regions = selected_regions)\n",
        "\n",
        "    # selected trials per contrast level and response\n",
        "    right_stim_correct_trials = select_trials(dat, contrast_pair=(0,1), response_type='to_left')\n",
        "    right_stim_incorrect_trials   = select_trials(dat,contrast_pair=(0,1), response_type='to_right')\n",
        "\n",
        "    #left_stim_correct_trials = select_trials(dat,contrast_pair=(1,0), response_type='to_right')\n",
        "    #left_stim_wrong_trials   = select_trials(dat,contrast_pair=(1,0), response_type='to_left')\n",
        "\n",
        "    #right_stim_trials = select_by_contrast(dat, contrast_pair=(0,1))\n",
        "    #left_stim_trials  = select_by_contrast(dat, contrast_pair=(1,0))\n",
        "\n",
        "    # find mean firing rates across trials for Right Stimulus\n",
        "    correct_right_trace   = calculate_mean_firing_rate(dat['spks'][neurons_indices_in_area][:,right_stim_correct_trials], dt, ['trials'], gaussfilter = gaussfilter, gauss_sigma = gauss_sigma)\n",
        "    incorrect_right_trace = calculate_mean_firing_rate(dat['spks'][neurons_indices_in_area][:,right_stim_incorrect_trials], dt, ['trials'], gaussfilter = gaussfilter, gauss_sigma = gauss_sigma)\n",
        "    \n",
        "    Correct_examples.append(correct_right_trace)\n",
        "    Incorrect_examples.append(incorrect_right_trace)\n",
        "\n",
        "\n"
      ],
      "execution_count": 14,
      "outputs": []
    }
  ]
}