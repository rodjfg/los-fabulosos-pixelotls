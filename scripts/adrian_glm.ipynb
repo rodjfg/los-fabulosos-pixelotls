{
  "nbformat": 4,
  "nbformat_minor": 0,
  "metadata": {
    "colab": {
      "name": "Untitled1.ipynb",
      "provenance": [],
      "authorship_tag": "ABX9TyOWrfhJnZaAM10O6WVQxYXC",
      "include_colab_link": true
    },
    "kernelspec": {
      "name": "python3",
      "display_name": "Python 3.9.6 64-bit ('pixelotls': conda)"
    },
    "language_info": {
      "name": "python",
      "version": "3.9.6"
    },
    "interpreter": {
      "hash": "5a18d423e10ddd2395956383e64a5cb6d30ebf050064bdd77d15f6fecb9d14a3"
    }
  },
  "cells": [
    {
      "cell_type": "markdown",
      "metadata": {
        "id": "view-in-github",
        "colab_type": "text"
      },
      "source": [
        "<a href=\"https://colab.research.google.com/github/rodjfg/los-fabulosos-pixelotls/blob/master/glm_together.ipynb\" target=\"_parent\"><img src=\"https://colab.research.google.com/assets/colab-badge.svg\" alt=\"Open In Colab\"/></a>"
      ]
    },
    {
      "cell_type": "markdown",
      "metadata": {
        "id": "a-k7USwKtCl2"
      },
      "source": [
        "Left / Right model"
      ]
    },
    {
      "cell_type": "code",
      "metadata": {
        "id": "scyjAl_8wID1"
      },
      "source": [
        "!pip install --quiet git+https://github.com/rodjfg/los-fabulosos-pixelotls"
      ],
      "execution_count": 1,
      "outputs": []
    },
    {
      "cell_type": "code",
      "metadata": {
        "id": "FI5H955xsFHl"
      },
      "source": [
        "from los_fabulosos_pixelotls.tools import load_raw_data, select_by_areas, select_by_contrast, select_trials, calculate_mean_firing_rate, select_by_response\n",
        "import numpy as np\n",
        "from matplotlib import rcParams \n",
        "from matplotlib import pyplot as plt\n",
        "from sklearn.model_selection import train_test_split\n",
        "from sklearn.linear_model import LogisticRegressionCV\n",
        "from sklearn.linear_model import LogisticRegressionCV, LogisticRegression\n",
        "import itertools\n",
        "\n",
        "rcParams['font.size'] =15\n",
        "rcParams['axes.spines.top'] = False\n",
        "rcParams['axes.spines.right'] = False\n",
        "rcParams['figure.autolayout'] = True"
      ],
      "execution_count": 2,
      "outputs": []
    },
    {
      "cell_type": "code",
      "metadata": {
        "id": "O8KK-j7_svEW"
      },
      "source": [
        "# get data\n",
        "alldat = load_raw_data('../dat')"
      ],
      "execution_count": 3,
      "outputs": []
    },
    {
      "cell_type": "code",
      "metadata": {
        "id": "y3WrRUeasz1g"
      },
      "source": [
        "def get_samples(selected_regions = [\"VISp\"], gaussfilter = True, gauss_sigma = 1, y_window = np.arange(250), contrast_list=None):\n",
        "\n",
        "  if not contrast_list:\n",
        "    contrast_list = [x for x in itertools.permutations([0,0.25,0.5,1], 2)]\n",
        "  elif contrast_list == 'right_stimulus':\n",
        "    contrast_list = [x for x in itertools.permutations([0,0.25,0.5,1], 2) if x[0] < x[1]]\n",
        "  elif contrast_list == 'left_stimulus':\n",
        "    contrast_list = [x for x in itertools.permutations([0,0.25,0.5,1], 2) if x[0] > x[1]]\n",
        "\n",
        "  samples = np.empty((0,len(y_window)))\n",
        "  y = np.empty((0,))\n",
        "\n",
        "  for dat in alldat:\n",
        "    dt = dat['bin_size']\n",
        "    neurons_indices_in_area = select_by_areas(dat, selected_regions = selected_regions)\n",
        "\n",
        "    if len(neurons_indices_in_area) > 0:\n",
        "      for contrast in contrast_list:\n",
        "        right_response_trials = select_trials(dat, contrast_pair=contrast, response_type = 'to_left') # trials in which mouse should move to the left (higher contrast on right side)\n",
        "        left_response_trials = select_trials(dat, contrast_pair=contrast, response_type = 'to_right') # trials in which mouse should move to the right (higher contrast on left side)\n",
        "\n",
        "        # average firing rate across neuron population (e.g. VISp) for each trial in which mouse moved to the left\n",
        "        right_firing_rates = calculate_mean_firing_rate(dat['spks'][neurons_indices_in_area][:,right_response_trials][...,y_window], dt, ['population'], gaussfilter = gaussfilter, gauss_sigma = gauss_sigma)\n",
        "        # average firing rate across neuron population (e.g. VISp) for each trial in which mouse moved to the right\n",
        "        left_firing_rates = calculate_mean_firing_rate(dat['spks'][neurons_indices_in_area][:,left_response_trials][...,y_window], dt, ['population'], gaussfilter = gaussfilter, gauss_sigma = gauss_sigma)\n",
        "\n",
        "        # find minimum number of samples that can be extracted from both conditions\n",
        "        n_min = min(right_firing_rates.shape[0],left_firing_rates.shape[0])\n",
        "        samples = np.concatenate((samples,right_firing_rates[:n_min,...]),axis=0)\n",
        "        samples = np.concatenate((samples,left_firing_rates[:n_min,...]),axis=0)\n",
        "\n",
        "        # 1: mouse moved to the left, 0: mouse moved to the right\n",
        "        y = np.concatenate( (y, np.ones(n_min)) )\n",
        "        y = np.concatenate( (y, np.zeros(n_min)) )\n",
        "\n",
        "  return samples, y"
      ],
      "execution_count": 4,
      "outputs": []
    },
    {
      "source": [
        "## Quick test with LogisticRegressionCV"
      ],
      "cell_type": "markdown",
      "metadata": {}
    },
    {
      "cell_type": "code",
      "metadata": {
        "id": "z0BthXl-wLYi"
      },
      "source": [
        "samples, y = get_samples([\"VISp\"])\n",
        "samples_train, samples_test, y_train, y_test = train_test_split(samples, y, test_size=0.23, random_state=42)\n",
        "clf = LogisticRegressionCV(penalty='l2', Cs=5, solver='sag', tol=0.0001, max_iter=5000, random_state=42).fit(samples_train, y_train)\n",
        "print(f'C {C}, train {clf.score(samples_train,y_train):.2f}, test {clf.score(samples_test,y_test):.2f}')\n",
        "clf = LogisticRegressionCV(penalty='l1', Cs=5, solver='saga', tol=0.0001, max_iter=5000, random_state=42).fit(samples_train, y_train)\n",
        "print(f'C {clf.C_[0]}, train {clf.score(samples_train,y_train):.2f}, test {clf.score(samples_test,y_test):.2f}')"
      ],
      "execution_count": 5,
      "outputs": [
        {
          "output_type": "stream",
          "name": "stdout",
          "text": [
            "0.1: train 0.89, test 0.48\n",
            "0.5: train 0.93, test 0.46\n",
            "1.0: train 0.97, test 0.51\n",
            "1.5: train 0.98, test 0.49\n"
          ]
        }
      ]
    },
    {
      "source": [
        "## Visual cortex areas loop"
      ],
      "cell_type": "markdown",
      "metadata": {}
    },
    {
      "cell_type": "code",
      "execution_count": null,
      "metadata": {},
      "outputs": [],
      "source": [
        "regions_of_interest = [[\"VISa\"], [\"VISam\"], [\"VISl\"], [\"VISp\"], [\"VISpm\"], [\"VISrl\"]]"
      ]
    },
    {
      "cell_type": "code",
      "metadata": {
        "id": "Xc1juauU3eIO"
      },
      "source": [
        "model_list = []\n",
        "for region in regions_of_interest:\n",
        "    samples, y = get_samples(region)\n",
        "    samples_train, samples_test, y_train, y_test = train_test_split(samples, y, test_size=0.23, random_state=42)\n",
        "    clf = LogisticRegressionCV(penalty='l2', Cs=10, cv=3, solver='sag', tol=0.0001, max_iter=5000, random_state=42).fit(samples_train, y_train)\n",
        "    print(f'{region}: C {clf.C_[0]}, train {clf.score(samples_train,y_train):.2f}, test {clf.score(samples_test,y_test):.2f}')\n",
        "    model_list.append(clf)"
      ],
      "execution_count": 9,
      "outputs": [
        {
          "output_type": "stream",
          "name": "stdout",
          "text": [
            "['VISa']: C 0.3593813663804626, train 1.00, test 0.61\n",
            "['VISam']: C 0.000774263682681127, train 0.75, test 0.41\n",
            "['VISl']: C 0.0001, train 0.57, test 0.39\n",
            "['VISp']: C 0.046415888336127774, train 0.85, test 0.46\n",
            "['VISpm']: C 0.046415888336127774, train 0.97, test 0.53\n",
            "['VISrl']: C 0.0001, train 0.52, test 0.44\n"
          ]
        }
      ]
    },
    {
      "source": [
        "## Smaller window around second peak"
      ],
      "cell_type": "markdown",
      "metadata": {}
    },
    {
      "cell_type": "code",
      "execution_count": 10,
      "metadata": {},
      "outputs": [
        {
          "output_type": "stream",
          "name": "stdout",
          "text": [
            "['VISa']: C 0.0001, train 0.51, test 0.48\n",
            "['VISam']: C 2.782559402207126, train 0.69, test 0.57\n",
            "['VISl']: C 0.0001, train 0.52, test 0.43\n",
            "['VISp']: C 0.005994842503189409, train 0.60, test 0.54\n",
            "['VISpm']: C 21.54434690031882, train 0.89, test 0.68\n",
            "['VISrl']: C 10000.0, train 0.83, test 0.33\n"
          ]
        }
      ],
      "source": [
        "model_list = []\n",
        "for region in regions_of_interest:\n",
        "    samples, y = get_samples(region,y_window=np.arange(60,90))\n",
        "    samples_train, samples_test, y_train, y_test = train_test_split(samples, y, test_size=0.23, random_state=42)\n",
        "    clf = LogisticRegressionCV(penalty='l2', Cs=10, cv=3, solver='sag', tol=0.0001, max_iter=5000, random_state=42).fit(samples_train, y_train)\n",
        "    print(f'{region}: C {clf.C_[0]}, train {clf.score(samples_train,y_train):.2f}, test {clf.score(samples_test,y_test):.2f}')\n",
        "    model_list.append(clf)"
      ]
    },
    {
      "source": [
        "## Dumb model with window before stimulus"
      ],
      "cell_type": "markdown",
      "metadata": {}
    },
    {
      "cell_type": "code",
      "execution_count": 11,
      "metadata": {},
      "outputs": [
        {
          "output_type": "stream",
          "name": "stdout",
          "text": [
            "['VISa']: C 2.782559402207126, train 0.84, test 0.48\n",
            "['VISam']: C 166.81005372000558, train 0.76, test 0.39\n",
            "['VISl']: C 166.81005372000558, train 0.80, test 0.32\n",
            "['VISp']: C 0.005994842503189409, train 0.63, test 0.49\n",
            "['VISpm']: C 0.000774263682681127, train 0.52, test 0.63\n",
            "['VISrl']: C 0.046415888336127774, train 0.75, test 0.44\n"
          ]
        }
      ],
      "source": [
        "model_list = []\n",
        "for region in regions_of_interest:\n",
        "    samples, y = get_samples(region,y_window=np.arange(0,50))\n",
        "    samples_train, samples_test, y_train, y_test = train_test_split(samples, y, test_size=0.23, random_state=42)\n",
        "    clf = LogisticRegressionCV(penalty='l2', Cs=10, cv=3, solver='sag', tol=0.0001, max_iter=5000, random_state=42).fit(samples_train, y_train)\n",
        "    print(f'{region}: C {clf.C_[0]}, train {clf.score(samples_train,y_train):.2f}, test {clf.score(samples_test,y_test):.2f}')\n",
        "    model_list.append(clf)"
      ]
    },
    {
      "source": [
        "## Full window, extremely smoothed"
      ],
      "cell_type": "markdown",
      "metadata": {}
    },
    {
      "cell_type": "code",
      "execution_count": 12,
      "metadata": {},
      "outputs": [
        {
          "output_type": "stream",
          "name": "stdout",
          "text": [
            "['VISa']: C 0.046415888336127774, train 0.73, test 0.43\n",
            "['VISam']: C 0.0001, train 0.56, test 0.35\n",
            "['VISl']: C 0.0001, train 0.52, test 0.43\n",
            "['VISp']: C 0.000774263682681127, train 0.61, test 0.52\n",
            "['VISpm']: C 0.046415888336127774, train 0.72, test 0.53\n",
            "['VISrl']: C 0.0001, train 0.52, test 0.44\n"
          ]
        }
      ],
      "source": [
        "model_list = []\n",
        "for region in regions_of_interest:\n",
        "    samples, y = get_samples(region,gauss_sigma=5)\n",
        "    samples_train, samples_test, y_train, y_test = train_test_split(samples, y, test_size=0.23, random_state=42)\n",
        "    clf = LogisticRegressionCV(penalty='l2', Cs=10, cv=3, solver='sag', tol=0.0001, max_iter=5000, random_state=42).fit(samples_train, y_train)\n",
        "    print(f'{region}: C {clf.C_[0]}, train {clf.score(samples_train,y_train):.2f}, test {clf.score(samples_test,y_test):.2f}')\n",
        "    model_list.append(clf)"
      ]
    },
    {
      "source": [
        "## Full window, no smoothing"
      ],
      "cell_type": "markdown",
      "metadata": {}
    },
    {
      "cell_type": "code",
      "execution_count": 13,
      "metadata": {},
      "outputs": [
        {
          "output_type": "stream",
          "name": "stdout",
          "text": [
            "['VISa']: C 0.0001, train 0.75, test 0.57\n",
            "['VISam']: C 0.0001, train 0.73, test 0.35\n",
            "['VISl']: C 0.0001, train 0.60, test 0.43\n",
            "['VISp']: C 0.0001, train 0.73, test 0.52\n",
            "['VISpm']: C 0.046415888336127774, train 1.00, test 0.68\n",
            "['VISrl']: C 0.0001, train 0.52, test 0.44\n"
          ]
        }
      ],
      "source": [
        "model_list = []\n",
        "for region in [[\"VISa\"], [\"VISam\"], [\"VISl\"], [\"VISp\"], [\"VISpm\"], [\"VISrl\"]]:\n",
        "    samples, y = get_samples(region,gaussfilter=False)\n",
        "    samples_train, samples_test, y_train, y_test = train_test_split(samples, y, test_size=0.23, random_state=42)\n",
        "    clf = LogisticRegressionCV(penalty='l2', Cs=10, cv=3, solver='sag', tol=0.0001, max_iter=5000, random_state=42).fit(samples_train, y_train)\n",
        "    print(f'{region}: C {clf.C_[0]}, train {clf.score(samples_train,y_train):.2f}, test {clf.score(samples_test,y_test):.2f}')\n",
        "    model_list.append(clf)"
      ]
    },
    {
      "source": [
        "## Only for stimuli stronger on one side"
      ],
      "cell_type": "markdown",
      "metadata": {}
    },
    {
      "source": [
        "## ... Right stimulus stronger than Left"
      ],
      "cell_type": "markdown",
      "metadata": {}
    },
    {
      "cell_type": "code",
      "execution_count": 14,
      "metadata": {},
      "outputs": [
        {
          "output_type": "stream",
          "name": "stdout",
          "text": [
            "['VISa']: C 0.005994842503189409, train 0.93, test 0.12\n",
            "['VISam']: C 0.000774263682681127, train 0.75, test 0.65\n",
            "['VISl']: C 0.0001, train 0.54, test 0.33\n",
            "['VISp']: C 21.54434690031882, train 1.00, test 0.51\n",
            "['VISpm']: C 0.005994842503189409, train 0.86, test 0.38\n",
            "['VISrl']: C 2.782559402207126, train 1.00, test 0.55\n"
          ]
        }
      ],
      "source": [
        "model_list = []\n",
        "for region in [[\"VISa\"], [\"VISam\"], [\"VISl\"], [\"VISp\"], [\"VISpm\"], [\"VISrl\"]]:\n",
        "    samples, y = get_samples(region, contrast_list='right_stimulus')\n",
        "    samples_train, samples_test, y_train, y_test = train_test_split(samples, y, test_size=0.2, random_state=42)\n",
        "    clf = LogisticRegressionCV(penalty='l2', Cs=10, cv=3, solver='sag', tol=0.0001, max_iter=5000, random_state=42).fit(samples_train, y_train)\n",
        "    print(f'{region}: C {clf.C_[0]}, train {clf.score(samples_train,y_train):.2f}, test {clf.score(samples_test,y_test):.2f}')\n",
        "    model_list.append(clf)"
      ]
    },
    {
      "source": [
        "## ... Left stimulus stronger than Right"
      ],
      "cell_type": "markdown",
      "metadata": {}
    },
    {
      "cell_type": "code",
      "execution_count": 15,
      "metadata": {},
      "outputs": [
        {
          "output_type": "stream",
          "name": "stdout",
          "text": [
            "['VISa']: C 0.0001, train 0.56, test 0.25\n",
            "['VISam']: C 0.000774263682681127, train 0.75, test 0.47\n",
            "['VISl']: C 0.005994842503189409, train 1.00, test 0.67\n",
            "['VISp']: C 0.000774263682681127, train 0.67, test 0.36\n",
            "['VISpm']: C 0.3593813663804626, train 1.00, test 0.78\n",
            "['VISrl']: C 21.54434690031882, train 1.00, test 0.20\n"
          ]
        }
      ],
      "source": [
        "model_list = []\n",
        "for region in [[\"VISa\"], [\"VISam\"], [\"VISl\"], [\"VISp\"], [\"VISpm\"], [\"VISrl\"]]:\n",
        "    samples, y = get_samples(region, contrast_list='left_stimulus')\n",
        "    samples_train, samples_test, y_train, y_test = train_test_split(samples, y, test_size=0.2, random_state=42)\n",
        "    clf = LogisticRegressionCV(penalty='l2', Cs=10, cv=3, solver='sag', tol=0.0001, max_iter=5000, random_state=42).fit(samples_train, y_train)\n",
        "    print(f'{region}: C {clf.C_[0]}, train {clf.score(samples_train,y_train):.2f}, test {clf.score(samples_test,y_test):.2f}')\n",
        "    model_list.append(clf)"
      ]
    },
    {
      "cell_type": "code",
      "execution_count": null,
      "metadata": {},
      "outputs": [],
      "source": []
    }
  ]
}